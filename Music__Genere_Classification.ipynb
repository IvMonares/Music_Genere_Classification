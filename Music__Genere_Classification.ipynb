{
 "cells": [
  {
   "cell_type": "markdown",
   "metadata": {},
   "source": [
    "# Music Genere Classification\n",
    "\n",
    "Can a computer tell what type of music is playing? This could have multiple uses, such as file archiving, improving recommender systems of music files without meta-data, or as an intermediate step in identifying songs and their authors.\n",
    "\n",
    "A dataset of over 20,000 song samples (30 second clips) and their musical genres will be used to machine learning algorithm capable of predicting the musical genres of each sample's audio file. This dataset was obtained from the \"Music Classification\" Kaggle competition, by Rob Mulla, 2022, found at [https://kaggle.com/competitions/kaggle-pog-series-s01e02](https://kaggle.com/competitions/kaggle-pog-series-s01e02).\n",
    "\n",
    "Datasets contain audio samples for 19 different generes. That means that random guessing would only match correctly 5.26% of the time. For this project the goal is improve this to have at least a 40% chance of predicting the correct genere, which would be a 660% improvement."
   ]
  },
  {
   "cell_type": "markdown",
   "metadata": {},
   "source": [
    "## Setup"
   ]
  },
  {
   "cell_type": "markdown",
   "metadata": {},
   "source": [
    "### Exploratory Data Analysis"
   ]
  },
  {
   "cell_type": "markdown",
   "metadata": {},
   "source": [
    "### Dataset Construction"
   ]
  },
  {
   "cell_type": "markdown",
   "metadata": {},
   "source": [
    "## Model Creation\n",
    "\n",
    "### Helping Functions"
   ]
  },
  {
   "cell_type": "markdown",
   "metadata": {},
   "source": [
    "### Model Architecture"
   ]
  },
  {
   "cell_type": "markdown",
   "metadata": {},
   "source": [
    "### Model Training"
   ]
  },
  {
   "cell_type": "markdown",
   "metadata": {},
   "source": [
    "### Model Results"
   ]
  },
  {
   "cell_type": "markdown",
   "metadata": {},
   "source": [
    "## Alternative Models\n",
    "\n",
    "### Hyperparameter tuning\n",
    "\n",
    "### Alternative Model Architecture\n"
   ]
  },
  {
   "cell_type": "markdown",
   "metadata": {},
   "source": [
    "## Results\n",
    "\n",
    "### Model comparison results\n",
    "\n",
    "### Hyper-parameter optimization results\n"
   ]
  },
  {
   "cell_type": "markdown",
   "metadata": {},
   "source": [
    "## Conclusions\n",
    "\n",
    "### Learnings\n",
    "\n",
    "### Future works"
   ]
  },
  {
   "cell_type": "markdown",
   "metadata": {},
   "source": [
    "## References\n",
    "\n",
    "* [Rob Mulla. (2022). Music Classification. Kaggle.](https://kaggle.com/competitions/kaggle-pog-series-s01e02)"
   ]
  }
 ],
 "metadata": {
  "kernelspec": {
   "display_name": "Python 3",
   "language": "python",
   "name": "python3"
  },
  "language_info": {
   "codemirror_mode": {
    "name": "ipython",
    "version": 3
   },
   "file_extension": ".py",
   "mimetype": "text/x-python",
   "name": "python",
   "nbconvert_exporter": "python",
   "pygments_lexer": "ipython3",
   "version": "3.9.18"
  },
  "orig_nbformat": 4
 },
 "nbformat": 4,
 "nbformat_minor": 2
}
